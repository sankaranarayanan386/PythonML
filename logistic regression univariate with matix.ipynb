{
 "cells": [
  {
   "cell_type": "code",
   "execution_count": 5,
   "metadata": {
    "collapsed": true
   },
   "outputs": [],
   "source": [
    "from numpy import *\n",
    "from matplotlib import pyplot as plt\n",
    "import pandas as pd\n",
    "import math"
   ]
  },
  {
   "cell_type": "code",
   "execution_count": 7,
   "metadata": {},
   "outputs": [],
   "source": [
    "def h_theta_avg_error(theta_0,theta_1,theta_2,x1,x2,y,m):\n",
    "    total_error=0\n",
    "    hyp=(1/(1+e**(-1*(dot(theta.T*X)))))\n",
    "    error=(((-1*(y[i][0]))*(log(hyp)))-((1-(y[i][0]))*(log(1-hyp))))**2\n",
    "    total_error+=error\n",
    "    return((total_error/(m)))"
   ]
  },
  {
   "cell_type": "code",
   "execution_count": 62,
   "metadata": {
    "collapsed": true
   },
   "outputs": [],
   "source": [
    "def gradient_descent(total_error,alpha,data_set,theta_0,theta_1,theta_2,iterations):\n",
    "    m=len(data_set)\n",
    "    print(\"running gradient Descent....\")\n",
    "    #count=0\n",
    "    #countif=0\n",
    "    i=0\n",
    "    for i in range(0,iterations):\n",
    "        theta_0,theta_1,theta_2,new_error=descent_step(theta_0,theta_1,theta_2,data_set,alpha,total_error)       \n",
    "    total_error=new_error\n",
    "    print(total_error)\n",
    "    #plot(theta_0,theta_1,data_set,m)\n",
    "    return (theta_0,theta_1,theta_2,total_error,alpha)     "
   ]
  },
  {
   "cell_type": "code",
   "execution_count": 53,
   "metadata": {
    "collapsed": true
   },
   "outputs": [],
   "source": [
    "def descent_step(theta_0,theta_1,theta_2,data_set,alpha,total_error):\n",
    "    theta_0_temp=0\n",
    "    theta_1_temp=0\n",
    "    theta_2_temp=0\n",
    "    m=len(data_set)\n",
    "    for i in range(1,m):\n",
    "        theta_0_temp +=-(1)*(y[i][0] - ((theta_1 * data_set[i][1])+(theta_2 * data_set[i][2]) + theta_0))\n",
    "        theta_1_temp+=-(1)*data_set[i][1]*(y[i][0]-((theta_1*data_set[i][1]+(theta_2 * data_set[i][2])+theta_0)))\n",
    "        theta_1_temp+=-(1)*data_set[i][2]*(y[i][0]-((theta_1*data_set[i][1]+(theta_2 * data_set[i][2])+theta_0)))\n",
    "    theta_0_new = theta_0 - (alpha * theta_0_temp)\n",
    "    theta_1_new = theta_1 - (alpha * theta_1_temp)\n",
    "    theta_2_new = theta_2 - (alpha * theta_2_temp)\n",
    "    new_error=h_theta_avg_error(theta_0_new,theta_1_new,theta_2_new,data_set,m)\n",
    "    return(theta_0_new,theta_1_new,theta_2_new,new_error)"
   ]
  },
  {
   "cell_type": "code",
   "execution_count": 60,
   "metadata": {
    "collapsed": true
   },
   "outputs": [],
   "source": [
    "import matplotlib.pyplot as plt\n",
    "def plot(theta_0,theta_1,theta_2,data_set,m):\n",
    "    y_predict=[]\n",
    "    x=[]\n",
    "    x2=[]\n",
    "    for i in range(m):\n",
    "        z=theta_0+(theta_1*(data_set[i][1]))+(theta_2*(data_set[i][2]))\n",
    "        hyp=(1/(1+math.e**(-1*z)))\n",
    "        y_predict.append(hyp)   \n",
    "    #plt.plot(x,y,'o')\n",
    "    plt.plot(x,x2,'o')\n",
    "    plt.plot(y_predict,'r-')\n"
   ]
  },
  {
   "cell_type": "code",
   "execution_count": 8,
   "metadata": {},
   "outputs": [
    {
     "ename": "NameError",
     "evalue": "name 'theta' is not defined",
     "output_type": "error",
     "traceback": [
      "\u001b[1;31m---------------------------------------------------------------------------\u001b[0m",
      "\u001b[1;31mNameError\u001b[0m                                 Traceback (most recent call last)",
      "\u001b[1;32m<ipython-input-8-cb5c8090da11>\u001b[0m in \u001b[0;36m<module>\u001b[1;34m()\u001b[0m\n\u001b[0;32m     18\u001b[0m     \u001b[0mtheta_2\u001b[0m\u001b[1;33m=\u001b[0m\u001b[1;36m0.85\u001b[0m\u001b[1;33m\u001b[0m\u001b[0m\n\u001b[0;32m     19\u001b[0m     \u001b[0mm\u001b[0m\u001b[1;33m=\u001b[0m\u001b[0mlen\u001b[0m\u001b[1;33m(\u001b[0m\u001b[0mdata_set\u001b[0m\u001b[1;33m)\u001b[0m\u001b[1;33m\u001b[0m\u001b[0m\n\u001b[1;32m---> 20\u001b[1;33m     \u001b[0mtotal_error\u001b[0m\u001b[1;33m=\u001b[0m\u001b[0mh_theta_avg_error\u001b[0m\u001b[1;33m(\u001b[0m\u001b[0mtheta_0\u001b[0m\u001b[1;33m,\u001b[0m\u001b[0mtheta_1\u001b[0m\u001b[1;33m,\u001b[0m\u001b[0mtheta_2\u001b[0m\u001b[1;33m,\u001b[0m\u001b[0mx1\u001b[0m\u001b[1;33m,\u001b[0m\u001b[0mx2\u001b[0m\u001b[1;33m,\u001b[0m\u001b[0my\u001b[0m\u001b[1;33m,\u001b[0m\u001b[0mm\u001b[0m\u001b[1;33m)\u001b[0m\u001b[1;33m\u001b[0m\u001b[0m\n\u001b[0m\u001b[0;32m     21\u001b[0m     \u001b[0mprint\u001b[0m\u001b[1;33m(\u001b[0m\u001b[0mtotal_error\u001b[0m\u001b[1;33m)\u001b[0m\u001b[1;33m\u001b[0m\u001b[0m\n\u001b[0;32m     22\u001b[0m     \u001b[0malpha\u001b[0m\u001b[1;33m=\u001b[0m\u001b[1;36m0.0001\u001b[0m\u001b[1;33m\u001b[0m\u001b[0m\n",
      "\u001b[1;32m<ipython-input-7-1de2b6e1a739>\u001b[0m in \u001b[0;36mh_theta_avg_error\u001b[1;34m(theta_0, theta_1, theta_2, x1, x2, y, m)\u001b[0m\n\u001b[0;32m      1\u001b[0m \u001b[1;32mdef\u001b[0m \u001b[0mh_theta_avg_error\u001b[0m\u001b[1;33m(\u001b[0m\u001b[0mtheta_0\u001b[0m\u001b[1;33m,\u001b[0m\u001b[0mtheta_1\u001b[0m\u001b[1;33m,\u001b[0m\u001b[0mtheta_2\u001b[0m\u001b[1;33m,\u001b[0m\u001b[0mx1\u001b[0m\u001b[1;33m,\u001b[0m\u001b[0mx2\u001b[0m\u001b[1;33m,\u001b[0m\u001b[0my\u001b[0m\u001b[1;33m,\u001b[0m\u001b[0mm\u001b[0m\u001b[1;33m)\u001b[0m\u001b[1;33m:\u001b[0m\u001b[1;33m\u001b[0m\u001b[0m\n\u001b[0;32m      2\u001b[0m     \u001b[0mtotal_error\u001b[0m\u001b[1;33m=\u001b[0m\u001b[1;36m0\u001b[0m\u001b[1;33m\u001b[0m\u001b[0m\n\u001b[1;32m----> 3\u001b[1;33m     \u001b[0mhyp\u001b[0m\u001b[1;33m=\u001b[0m\u001b[1;33m(\u001b[0m\u001b[1;36m1\u001b[0m\u001b[1;33m/\u001b[0m\u001b[1;33m(\u001b[0m\u001b[1;36m1\u001b[0m\u001b[1;33m+\u001b[0m\u001b[0me\u001b[0m\u001b[1;33m**\u001b[0m\u001b[1;33m(\u001b[0m\u001b[1;33m-\u001b[0m\u001b[1;36m1\u001b[0m\u001b[1;33m*\u001b[0m\u001b[1;33m(\u001b[0m\u001b[0mdot\u001b[0m\u001b[1;33m(\u001b[0m\u001b[0mtheta\u001b[0m\u001b[1;33m.\u001b[0m\u001b[0mT\u001b[0m\u001b[1;33m*\u001b[0m\u001b[0mX\u001b[0m\u001b[1;33m)\u001b[0m\u001b[1;33m)\u001b[0m\u001b[1;33m)\u001b[0m\u001b[1;33m)\u001b[0m\u001b[1;33m)\u001b[0m\u001b[1;33m\u001b[0m\u001b[0m\n\u001b[0m\u001b[0;32m      4\u001b[0m     \u001b[0merror\u001b[0m\u001b[1;33m=\u001b[0m\u001b[1;33m(\u001b[0m\u001b[1;33m(\u001b[0m\u001b[1;33m(\u001b[0m\u001b[1;33m-\u001b[0m\u001b[1;36m1\u001b[0m\u001b[1;33m*\u001b[0m\u001b[1;33m(\u001b[0m\u001b[0my\u001b[0m\u001b[1;33m[\u001b[0m\u001b[0mi\u001b[0m\u001b[1;33m]\u001b[0m\u001b[1;33m[\u001b[0m\u001b[1;36m0\u001b[0m\u001b[1;33m]\u001b[0m\u001b[1;33m)\u001b[0m\u001b[1;33m)\u001b[0m\u001b[1;33m*\u001b[0m\u001b[1;33m(\u001b[0m\u001b[0mlog\u001b[0m\u001b[1;33m(\u001b[0m\u001b[0mhyp\u001b[0m\u001b[1;33m)\u001b[0m\u001b[1;33m)\u001b[0m\u001b[1;33m)\u001b[0m\u001b[1;33m-\u001b[0m\u001b[1;33m(\u001b[0m\u001b[1;33m(\u001b[0m\u001b[1;36m1\u001b[0m\u001b[1;33m-\u001b[0m\u001b[1;33m(\u001b[0m\u001b[0my\u001b[0m\u001b[1;33m[\u001b[0m\u001b[0mi\u001b[0m\u001b[1;33m]\u001b[0m\u001b[1;33m[\u001b[0m\u001b[1;36m0\u001b[0m\u001b[1;33m]\u001b[0m\u001b[1;33m)\u001b[0m\u001b[1;33m)\u001b[0m\u001b[1;33m*\u001b[0m\u001b[1;33m(\u001b[0m\u001b[0mlog\u001b[0m\u001b[1;33m(\u001b[0m\u001b[1;36m1\u001b[0m\u001b[1;33m-\u001b[0m\u001b[0mhyp\u001b[0m\u001b[1;33m)\u001b[0m\u001b[1;33m)\u001b[0m\u001b[1;33m)\u001b[0m\u001b[1;33m)\u001b[0m\u001b[1;33m**\u001b[0m\u001b[1;36m2\u001b[0m\u001b[1;33m\u001b[0m\u001b[0m\n\u001b[0;32m      5\u001b[0m     \u001b[0mtotal_error\u001b[0m\u001b[1;33m+=\u001b[0m\u001b[0merror\u001b[0m\u001b[1;33m\u001b[0m\u001b[0m\n",
      "\u001b[1;31mNameError\u001b[0m: name 'theta' is not defined"
     ]
    }
   ],
   "source": [
    "if __name__==\"__main__\":\n",
    "    data_source=genfromtxt(\"breast_cancer_1.csv\",delimiter=',',skip_header=1,usecols=(6,9))\n",
    "    data_set=np.array(data_source)\n",
    "    x1=np.ones(len(data_set))\n",
    "    data_set=np.c_[x1,data_set]\n",
    "    y=np.array(genfromtxt(\"breast_cancer_1.csv\",delimiter=',',skip_header=1,usecols=10))\n",
    "    y=y.reshape(len(y),1)\n",
    "    x1=[]\n",
    "    x2=[]\n",
    "   # for i in range(len(data_set)):\n",
    "   #     x1.append(data_set[i][1])\n",
    "   #     x2.append(data_set[i][2])\n",
    "    #print(x1,x2)\n",
    "    \n",
    "    ##########\n",
    "    theta_0=0.5\n",
    "    theta_1=0.75\n",
    "    theta_2=0.85\n",
    "    m=len(data_set)\n",
    "    total_error=h_theta_avg_error(theta_0,theta_1,theta_2,x1,x2,y,m)\n",
    "    print(total_error)\n",
    "    alpha=0.0001\n",
    "    #print(alpha)n\n",
    "    iterations=100\n",
    "    #theta_0,theta_1,theta_2,total_error,alpha=gradient_descent(total_error,alpha,data_set,theta_0,theta_1,theta_2,iterations)\n",
    "    print(theta_0,theta_1,theta_2,total_error,alpha)\n",
    "   # plot(theta_0,theta_1,theta_2,data_set,m)\n",
    "   # plt.show()\n",
    "    print (\"Done!\")\n",
    "    #anim.save(r\"C:\\Users\\668376\\Desktop\\LR\\linear_regression.mp4\",writer=animation.FFMpegWriter())\n",
    "    "
   ]
  }
 ],
 "metadata": {
  "kernelspec": {
   "display_name": "Python 3",
   "language": "python",
   "name": "python3"
  },
  "language_info": {
   "codemirror_mode": {
    "name": "ipython",
    "version": 3
   },
   "file_extension": ".py",
   "mimetype": "text/x-python",
   "name": "python",
   "nbconvert_exporter": "python",
   "pygments_lexer": "ipython3",
   "version": "3.6.3"
  }
 },
 "nbformat": 4,
 "nbformat_minor": 2
}
