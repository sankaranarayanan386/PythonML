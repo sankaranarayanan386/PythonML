{
 "cells": [
  {
   "cell_type": "code",
   "execution_count": 2,
   "metadata": {
    "collapsed": true
   },
   "outputs": [],
   "source": [
    "from numpy import *"
   ]
  },
  {
   "cell_type": "code",
   "execution_count": 2,
   "metadata": {
    "collapsed": true
   },
   "outputs": [],
   "source": [
    "def h_theta_avg_error(theta_0,theta_1,data_set,m) :\n",
    "    total_error=0\n",
    "    for i in range(len(data_set)):\n",
    "        x=float(data_set[i][0])\n",
    "        y=float(data_set[i][1])\n",
    "        h_theta_x=theta_0+(theta_1*x)\n",
    "        error=(h_theta_x-y)**2\n",
    "        total_error+=error\n",
    "        #print(\"x={0}  predicted={1}   actual={2}   error={3}\",x,h_theta_x,y,error)\n",
    "    #print(\"average_error=\",(total_error/(2*len(data_set))))\n",
    "    return((total_error/(2*m)))"
   ]
  },
  {
   "cell_type": "code",
   "execution_count": 3,
   "metadata": {
    "collapsed": true
   },
   "outputs": [],
   "source": [
    "def descent_step(theta_0,theta_1,data_set,alpha,total_error):\n",
    "    theta_0_temp=0\n",
    "    theta_1_temp=0\n",
    "    m=len(data_set)\n",
    "    for i in range(m):\n",
    "        theta_0_temp+=-(2/m)*(data_set[i][1] - ((theta_1 * data_set[i][0]) + theta_0))\n",
    "        theta_1_temp+=-(2/m)*data_set[i][0]*(data_set[i][1]-((theta_1*data_set[i][0]+theta_0)))\n",
    "    theta_0_new = theta_0 - (alpha * theta_0_temp)\n",
    "    theta_1_new = theta_1 - (alpha * theta_1_temp)\n",
    "    new_error=h_theta_avg_error(theta_0_new,theta_1_new,data_set,m)\n",
    "    return(theta_0_new,theta_1_new,new_error)"
   ]
  },
  {
   "cell_type": "code",
   "execution_count": 4,
   "metadata": {
    "collapsed": true
   },
   "outputs": [],
   "source": [
    "def gradient_descent(total_error,alpha,data_set,theta_0,theta_1,iterations):\n",
    "    m=len(data_set)\n",
    "    print(\"running gradient Descent....\")\n",
    "    #count=0\n",
    "    #countif=0\n",
    "    i=0\n",
    "    for i in range(0,iterations):\n",
    "        theta_0,theta_1,new_error=descent_step(theta_0,theta_1,data_set,alpha,total_error)\n",
    "       # count+=1\n",
    "       # print(theta_0,theta_1,new_error)\n",
    "        #print(count,countif)\n",
    "        if abs(new_error-total_error)<=10 :\n",
    "            total_error=new_error\n",
    "           # countif+=1\n",
    "            break\n",
    "    total_error=new_error\n",
    "    return (theta_0,theta_1,total_error,alpha)     \n",
    "        "
   ]
  },
  {
   "cell_type": "code",
   "execution_count": 5,
   "metadata": {},
   "outputs": [
    {
     "name": "stdout",
     "output_type": "stream",
     "text": [
      "2782.5539172416056\n",
      "running gradient Descent....\n",
      "(4.2479844402191889, 1.3959992655297515, 55.393159648725401, 0.0001)\n"
     ]
    }
   ],
   "source": [
    "if __name__==\"__main__\":\n",
    "    data_set_not_scaled=genfromtxt(\"day.csv\",delimiter=',')\n",
    "    data_set=feature_scaling(data_set_not_scaled)\n",
    "    theta_0=0\n",
    "    theta_1=0\n",
    "    m=len(data_set) data_set=genfromtxt(\"day.csv\",delimiter=',')\n",
    "    total_error=h_theta_avg_error(theta_0,theta_1,data_set,m)\n",
    "    print(total_error)\n",
    "    alpha=0.0001\n",
    "    #print(alpha)\n",
    "    iterations=100000\n",
    "    print(gradient_descent(total_error,alpha,data_set,theta_0,theta_1,iterations))\n",
    "       "
   ]
  },
  {
   "cell_type": "code",
   "execution_count": 9,
   "metadata": {},
   "outputs": [],
   "source": [
    "#feature Scaling\n",
    "def feature_scaling(data_set):\n",
    "    print(data_set)"
   ]
  },
  {
   "cell_type": "code",
   "execution_count": 13,
   "metadata": {},
   "outputs": [
    {
     "data": {
      "text/plain": [
       "array([[             nan,              nan,              nan, ...,\n",
       "                     nan,              nan,              nan],\n",
       "       [  1.00000000e+00,              nan,   1.00000000e+00, ...,\n",
       "          3.31000000e+02,   6.54000000e+02,   9.85000000e+02],\n",
       "       [  2.00000000e+00,              nan,   1.00000000e+00, ...,\n",
       "          1.31000000e+02,   6.70000000e+02,   8.01000000e+02],\n",
       "       ..., \n",
       "       [  7.29000000e+02,              nan,   1.00000000e+00, ...,\n",
       "          1.59000000e+02,   1.18200000e+03,   1.34100000e+03],\n",
       "       [  7.30000000e+02,              nan,   1.00000000e+00, ...,\n",
       "          3.64000000e+02,   1.43200000e+03,   1.79600000e+03],\n",
       "       [  7.31000000e+02,              nan,   1.00000000e+00, ...,\n",
       "          4.39000000e+02,   2.29000000e+03,   2.72900000e+03]])"
      ]
     },
     "execution_count": 13,
     "metadata": {},
     "output_type": "execute_result"
    }
   ],
   "source": [
    "data_set=genfromtxt(\"day.csv\",delimiter=',')\n",
    "data_set\n"
   ]
  }
 ],
 "metadata": {
  "kernelspec": {
   "display_name": "Python 3",
   "language": "python",
   "name": "python3"
  },
  "language_info": {
   "codemirror_mode": {
    "name": "ipython",
    "version": 3
   },
   "file_extension": ".py",
   "mimetype": "text/x-python",
   "name": "python",
   "nbconvert_exporter": "python",
   "pygments_lexer": "ipython3",
   "version": "3.6.3"
  }
 },
 "nbformat": 4,
 "nbformat_minor": 2
}
