{
 "cells": [
  {
   "cell_type": "code",
   "execution_count": 3,
   "metadata": {
    "collapsed": true
   },
   "outputs": [],
   "source": [
    "from numpy import *"
   ]
  },
  {
   "cell_type": "code",
   "execution_count": 26,
   "metadata": {
    "collapsed": true
   },
   "outputs": [],
   "source": [
    "def hypothesis(theta_0,theta_1,data_file,m):\n",
    "    cost=0\n",
    "    for i in range(m):\n",
    "        hyp=theta_0+(theta_1*data_file[i][0])\n",
    "        cost+=cost+((abs(data_file[i][1]-hyp)))\n",
    "    return(cost)"
   ]
  },
  {
   "cell_type": "code",
   "execution_count": 27,
   "metadata": {},
   "outputs": [
    {
     "name": "stdout",
     "output_type": "stream",
     "text": [
      "exec\n",
      "6.39173240273e+31\n"
     ]
    }
   ],
   "source": [
    "if __name__==\"__main__\" :\n",
    "    data_file=genfromtxt(\"data.csv\",delimiter=',')\n",
    "    theta_0=0\n",
    "    theta_1=0\n",
    "    m=len(data_file)\n",
    "    print(\"exec\")\n",
    "    cost=hypothesis(theta_0,theta_1,data_file,m)\n",
    "    print(((cost)))"
   ]
  }
 ],
 "metadata": {
  "kernelspec": {
   "display_name": "Python 3",
   "language": "python",
   "name": "python3"
  },
  "language_info": {
   "codemirror_mode": {
    "name": "ipython",
    "version": 3
   },
   "file_extension": ".py",
   "mimetype": "text/x-python",
   "name": "python",
   "nbconvert_exporter": "python",
   "pygments_lexer": "ipython3",
   "version": "3.6.3"
  }
 },
 "nbformat": 4,
 "nbformat_minor": 2
}
