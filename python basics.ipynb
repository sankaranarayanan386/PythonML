{
 "cells": [
  {
   "cell_type": "code",
   "execution_count": 48,
   "metadata": {},
   "outputs": [
    {
     "name": "stdout",
     "output_type": "stream",
     "text": [
      "['asddasdasd sdasdasd asdasdasd asddasdasd sdasdasd asdasdasd asddasdasd sdasdasd asdasdasd dasdasd sdasdasd asdasdasdasddasdasd sdasdasd asdasdasdasddasdasd sdasdasd asdasdasdasddasdasd sdasdasd asdasdasdasddasdasd sdasdasd asdasdasdasddasdasd sdasdasd asdasdasdasddasdasd sdasdasd asdasdasdasddasdasd sdasdasd asdasdasdasddasdasd sdasdasd asdasdasd ']\n"
     ]
    }
   ],
   "source": [
    "#name='abc.txt'\n",
    "file = open('abc.txt', \"r+\")\n",
    "file.write((\"asddasdasd sdasdasd asdasdasd \"))\n",
    "#file.close()\n",
    "#file=open('abc.txt','r')\n",
    "print(file.readlines())\n",
    "file.close()"
   ]
  },
  {
   "cell_type": "code",
   "execution_count": 59,
   "metadata": {},
   "outputs": [
    {
     "data": {
      "text/plain": [
       "(1, 2, 3, 4, 5, 6, 5, 3, 3)"
      ]
     },
     "execution_count": 59,
     "metadata": {},
     "output_type": "execute_result"
    }
   ],
   "source": [
    "lis=(1,2,3,4,5,6,5,3,3)\n",
    "\n",
    "lis"
   ]
  },
  {
   "cell_type": "code",
   "execution_count": 62,
   "metadata": {
    "collapsed": true
   },
   "outputs": [],
   "source": [
    "s=list(lis)"
   ]
  },
  {
   "cell_type": "code",
   "execution_count": 63,
   "metadata": {},
   "outputs": [
    {
     "data": {
      "text/plain": [
       "[1, 2, 3, 4, 5, 6, 5, 3, 3]"
      ]
     },
     "execution_count": 63,
     "metadata": {},
     "output_type": "execute_result"
    }
   ],
   "source": [
    "s"
   ]
  },
  {
   "cell_type": "code",
   "execution_count": null,
   "metadata": {
    "collapsed": true
   },
   "outputs": [],
   "source": []
  }
 ],
 "metadata": {
  "kernelspec": {
   "display_name": "Python 3",
   "language": "python",
   "name": "python3"
  },
  "language_info": {
   "codemirror_mode": {
    "name": "ipython",
    "version": 3
   },
   "file_extension": ".py",
   "mimetype": "text/x-python",
   "name": "python",
   "nbconvert_exporter": "python",
   "pygments_lexer": "ipython3",
   "version": "3.6.3"
  }
 },
 "nbformat": 4,
 "nbformat_minor": 2
}
