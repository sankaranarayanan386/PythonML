{
 "cells": [
  {
   "cell_type": "code",
   "execution_count": 2,
   "metadata": {
    "collapsed": true
   },
   "outputs": [],
   "source": [
    "from numpy import *"
   ]
  },
  {
   "cell_type": "code",
   "execution_count": 11,
   "metadata": {
    "collapsed": true
   },
   "outputs": [],
   "source": [
    "def step_gradient(theta_0,theta_1,points,alpha):\n",
    "    theta_0= 0\n",
    "    theta_1 = 0\n",
    "    N = float(len(points))\n",
    "    for i in range(0, len(points)):\n",
    "        x = points[i, 11]\n",
    "        y = points[i, 16]\n",
    "        theta_0 += -(2/N) * (y - ((theta_1 * x) +theta_0))\n",
    "        theta_1 += -(2/N) * x * (y - ((theta_1 * x) + theta_0))\n",
    "    new_theta_0 = theta_0 - (alpha * theta_0)\n",
    "    new_theta_1 = theta_1 - (alpha * theta_1)\n",
    "    return [new_theta_0, new_theta_1]"
   ]
  },
  {
   "cell_type": "code",
   "execution_count": 12,
   "metadata": {
    "collapsed": true
   },
   "outputs": [],
   "source": [
    "def gradient_descent_runner(points,theta_0,theta_1,alpha,iterations):\n",
    "    for i in range(iterations):\n",
    "        theta_0,theta_1=step_gradient(theta_0,theta_1,array(points),alpha)\n",
    "    return theta_0,theta_1"
   ]
  },
  {
   "cell_type": "code",
   "execution_count": 13,
   "metadata": {
    "collapsed": true
   },
   "outputs": [],
   "source": [
    "def compute_error_for_points(theta_0,theta_1,points):\n",
    "    total_error=0\n",
    "    for i in range(len(points)):\n",
    "        hyp=theta_0+(theta_1*points[i][11])#x=points[i][12]ie..`12 th column\n",
    "        total_error+=(hyp-points[i][16])**2#y=points[i][17]ie..17 column is the y value given\n",
    "    return total_error/len(points)"
   ]
  },
  {
   "cell_type": "code",
   "execution_count": 18,
   "metadata": {
    "collapsed": true
   },
   "outputs": [],
   "source": [
    "def run():\n",
    "    points=genfromtxt(\"hour.csv\",delimiter=',')\n",
    "    theta_0=0\n",
    "    theta_1=1\n",
    "    alpha=0.0001\n",
    "    iterations=1000\n",
    "    print(\"gradient Descent\")\n",
    "    print(\"initial theta_0=\",theta_0)\n",
    "    print(\"initial theta_1=\",theta_1)\n",
    "    print(\"error=\",compute_error_for_points(theta_0,theta_1,points))\n",
    "    [theta_0,theta_1] = gradient_descent_runner(points,theta_0,theta_1,alpha,iterations)\n",
    "    print (\"After {0} iterations b = {1}, m = {2}, error = {3}\".format(iterations, theta_0, theta_1,compute_error_for_points(theta_0,theta_1,points)))"
   ]
  },
  {
   "cell_type": "code",
   "execution_count": 19,
   "metadata": {},
   "outputs": [
    {
     "name": "stdout",
     "output_type": "stream",
     "text": [
      "gradient Descent\n",
      "initial theta_0= 0\n",
      "initial theta_1= 1\n",
      "error= nan\n",
      "After 1000 iterations b = nan, m = nan, error = nan\n"
     ]
    }
   ],
   "source": [
    "if __name__==\"__main__\":\n",
    "    run()"
   ]
  }
 ],
 "metadata": {
  "kernelspec": {
   "display_name": "Python 3",
   "language": "python",
   "name": "python3"
  },
  "language_info": {
   "codemirror_mode": {
    "name": "ipython",
    "version": 3
   },
   "file_extension": ".py",
   "mimetype": "text/x-python",
   "name": "python",
   "nbconvert_exporter": "python",
   "pygments_lexer": "ipython3",
   "version": "3.6.3"
  }
 },
 "nbformat": 4,
 "nbformat_minor": 2
}
