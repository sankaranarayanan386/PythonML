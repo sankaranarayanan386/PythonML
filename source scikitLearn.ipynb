{
 "cells": [
  {
   "cell_type": "code",
   "execution_count": 24,
   "metadata": {
    "collapsed": true
   },
   "outputs": [],
   "source": [
    "from numpy import *\n",
    "import matplotlib.pyplot as plt\n",
    "import math\n",
    "import numbers"
   ]
  },
  {
   "cell_type": "code",
   "execution_count": 37,
   "metadata": {
    "collapsed": true
   },
   "outputs": [],
   "source": [
    "def intercept_point(w,X,y):\n",
    "    z=[0]*len(X)\n",
    "    intercept=[0]*len(X)\n",
    "    for i in range(len(X)):\n",
    "        z[i]=-(dot(w.T,X[i]))\n",
    "        intercept[i]=(1/(1+math.e**(z[i])))\n",
    "        #print(intercept[i])\n",
    "    return (intercept)    "
   ]
  },
  {
   "cell_type": "code",
   "execution_count": 38,
   "metadata": {
    "collapsed": true
   },
   "outputs": [],
   "source": [
    "def cost_function(w,X,y):\n",
    "    total=0\n",
    "    m=len(X)//2\n",
    "    for i in range(m):\n",
    "        intercept_temp=[0]\n",
    "        intercept=intercept_point(w,X,y)\n",
    "        cost=(y[i][0]*math.log(intercept[i]))+((1-y[i][0])*math.log(1-intercept[i]))\n",
    "        cost=cost-y[i][0]\n",
    "        cost=cost*X[i]\n",
    "        total+=cost\n",
    "        cost=0\n",
    "    total_cost=(1/m)*total\n",
    "    return(total_cost)"
   ]
  },
  {
   "cell_type": "code",
   "execution_count": 27,
   "metadata": {
    "collapsed": true
   },
   "outputs": [],
   "source": [
    "def gradient_descent(X,y,total_cost,w,alpha,iterations):\n",
    "    for i in range(iterations):\n",
    "        w_modified,total_cost=descent_step(X,y,total_cost,w,alpha)\n",
    "        #print(w_modified,total_cost)\n",
    "    return(total_cost,w_modified)        "
   ]
  },
  {
   "cell_type": "code",
   "execution_count": 40,
   "metadata": {
    "collapsed": true
   },
   "outputs": [],
   "source": [
    "def descent_step(X,y,total_cost,w,alpha):\n",
    "    for i in range(len(X)//2):\n",
    "        w_temp0=w[0][0]-(alpha*(total_cost[0]))\n",
    "        w_temp1=w[1][0]-(alpha*(total_cost[1]))\n",
    "        w[0][0]=w_temp0\n",
    "        w[1][0]=w_temp1\n",
    "        new_total_cost=cost_function(w,X,y)\n",
    "       # if (abs(new_total_cost)-abs(total_cost))<0:\n",
    "        total_cost=new_total_cost\n",
    "        #elif (abs(new_total_cost)-abs(total_cost))>0:\n",
    "         #   break\n",
    "    return(w,total_cost)       "
   ]
  },
  {
   "cell_type": "code",
   "execution_count": 41,
   "metadata": {},
   "outputs": [
    {
     "name": "stdout",
     "output_type": "stream",
     "text": [
      "Wall time: 34.2 ms\n",
      "683\n",
      "Wall time: 2.92 s\n",
      "[[ 0.1]\n",
      " [ 0.8]] [-1.34236823 -5.83511715]\n",
      "[[ 0.14836791]\n",
      " [ 1.00735364]] [-1.49878768 -6.33822867]\n",
      "[[ 0.20247066]\n",
      " [ 1.23291427]] [-1.6790028  -6.90315961]\n",
      "[[ 0.26314484]\n",
      " [ 1.4788152 ]] [-1.88458621 -7.53201175]\n",
      "[[ 0.33128791]\n",
      " [ 1.74730902]] [-2.11748271 -8.2293334 ]\n",
      "[[ 0.40786692]\n",
      " [ 2.04082556]] [-2.37981302 -9.0008688 ]\n",
      "[[ 0.49392327]\n",
      " [ 2.36200489]] [-2.67381307 -9.85317324]\n",
      "[[ 0.59057665]\n",
      " [ 2.71372271]] [ -3.0018471  -10.79351483]\n",
      "[[ 0.69903031]\n",
      " [ 3.09911453]] [ -3.36643693 -11.82959885]\n",
      "[[ 0.82058212]\n",
      " [ 3.52163479]] [ -3.77057838 -12.97178422]\n"
     ]
    },
    {
     "ename": "ValueError",
     "evalue": "math domain error",
     "output_type": "error",
     "traceback": [
      "\u001b[1;31m---------------------------------------------------------------------------\u001b[0m",
      "\u001b[1;31mValueError\u001b[0m                                Traceback (most recent call last)",
      "\u001b[1;32m<timed exec>\u001b[0m in \u001b[0;36m<module>\u001b[1;34m()\u001b[0m\n",
      "\u001b[1;32m<ipython-input-27-5b0ed91d45da>\u001b[0m in \u001b[0;36mgradient_descent\u001b[1;34m(X, y, total_cost, w, alpha, iterations)\u001b[0m\n\u001b[0;32m      1\u001b[0m \u001b[1;32mdef\u001b[0m \u001b[0mgradient_descent\u001b[0m\u001b[1;33m(\u001b[0m\u001b[0mX\u001b[0m\u001b[1;33m,\u001b[0m\u001b[0my\u001b[0m\u001b[1;33m,\u001b[0m\u001b[0mtotal_cost\u001b[0m\u001b[1;33m,\u001b[0m\u001b[0mw\u001b[0m\u001b[1;33m,\u001b[0m\u001b[0malpha\u001b[0m\u001b[1;33m,\u001b[0m\u001b[0miterations\u001b[0m\u001b[1;33m)\u001b[0m\u001b[1;33m:\u001b[0m\u001b[1;33m\u001b[0m\u001b[0m\n\u001b[0;32m      2\u001b[0m     \u001b[1;32mfor\u001b[0m \u001b[0mi\u001b[0m \u001b[1;32min\u001b[0m \u001b[0mrange\u001b[0m\u001b[1;33m(\u001b[0m\u001b[0miterations\u001b[0m\u001b[1;33m)\u001b[0m\u001b[1;33m:\u001b[0m\u001b[1;33m\u001b[0m\u001b[0m\n\u001b[1;32m----> 3\u001b[1;33m         \u001b[0mw_modified\u001b[0m\u001b[1;33m,\u001b[0m\u001b[0mtotal_cost\u001b[0m\u001b[1;33m=\u001b[0m\u001b[0mdescent_step\u001b[0m\u001b[1;33m(\u001b[0m\u001b[0mX\u001b[0m\u001b[1;33m,\u001b[0m\u001b[0my\u001b[0m\u001b[1;33m,\u001b[0m\u001b[0mtotal_cost\u001b[0m\u001b[1;33m,\u001b[0m\u001b[0mw\u001b[0m\u001b[1;33m,\u001b[0m\u001b[0malpha\u001b[0m\u001b[1;33m)\u001b[0m\u001b[1;33m\u001b[0m\u001b[0m\n\u001b[0m\u001b[0;32m      4\u001b[0m         \u001b[0mprint\u001b[0m\u001b[1;33m(\u001b[0m\u001b[0mw_modified\u001b[0m\u001b[1;33m,\u001b[0m\u001b[0mtotal_cost\u001b[0m\u001b[1;33m)\u001b[0m\u001b[1;33m\u001b[0m\u001b[0m\n\u001b[0;32m      5\u001b[0m     \u001b[1;32mreturn\u001b[0m\u001b[1;33m(\u001b[0m\u001b[0mtotal_cost\u001b[0m\u001b[1;33m,\u001b[0m\u001b[0mw_modified\u001b[0m\u001b[1;33m)\u001b[0m\u001b[1;33m\u001b[0m\u001b[0m\n",
      "\u001b[1;32m<ipython-input-40-25fb651c9817>\u001b[0m in \u001b[0;36mdescent_step\u001b[1;34m(X, y, total_cost, w, alpha)\u001b[0m\n\u001b[0;32m      5\u001b[0m         \u001b[0mw\u001b[0m\u001b[1;33m[\u001b[0m\u001b[1;36m0\u001b[0m\u001b[1;33m]\u001b[0m\u001b[1;33m[\u001b[0m\u001b[1;36m0\u001b[0m\u001b[1;33m]\u001b[0m\u001b[1;33m=\u001b[0m\u001b[0mw_temp0\u001b[0m\u001b[1;33m\u001b[0m\u001b[0m\n\u001b[0;32m      6\u001b[0m         \u001b[0mw\u001b[0m\u001b[1;33m[\u001b[0m\u001b[1;36m1\u001b[0m\u001b[1;33m]\u001b[0m\u001b[1;33m[\u001b[0m\u001b[1;36m0\u001b[0m\u001b[1;33m]\u001b[0m\u001b[1;33m=\u001b[0m\u001b[0mw_temp1\u001b[0m\u001b[1;33m\u001b[0m\u001b[0m\n\u001b[1;32m----> 7\u001b[1;33m         \u001b[0mnew_total_cost\u001b[0m\u001b[1;33m=\u001b[0m\u001b[0mcost_function\u001b[0m\u001b[1;33m(\u001b[0m\u001b[0mw\u001b[0m\u001b[1;33m,\u001b[0m\u001b[0mX\u001b[0m\u001b[1;33m,\u001b[0m\u001b[0my\u001b[0m\u001b[1;33m)\u001b[0m\u001b[1;33m\u001b[0m\u001b[0m\n\u001b[0m\u001b[0;32m      8\u001b[0m        \u001b[1;31m# if (abs(new_total_cost)-abs(total_cost))<0:\u001b[0m\u001b[1;33m\u001b[0m\u001b[1;33m\u001b[0m\u001b[0m\n\u001b[0;32m      9\u001b[0m         \u001b[0mtotal_cost\u001b[0m\u001b[1;33m=\u001b[0m\u001b[0mnew_total_cost\u001b[0m\u001b[1;33m\u001b[0m\u001b[0m\n",
      "\u001b[1;32m<ipython-input-38-61fe5c2f1540>\u001b[0m in \u001b[0;36mcost_function\u001b[1;34m(w, X, y)\u001b[0m\n\u001b[0;32m      5\u001b[0m         \u001b[0mintercept_temp\u001b[0m\u001b[1;33m=\u001b[0m\u001b[1;33m[\u001b[0m\u001b[1;36m0\u001b[0m\u001b[1;33m]\u001b[0m\u001b[1;33m\u001b[0m\u001b[0m\n\u001b[0;32m      6\u001b[0m         \u001b[0mintercept\u001b[0m\u001b[1;33m=\u001b[0m\u001b[0mintercept_point\u001b[0m\u001b[1;33m(\u001b[0m\u001b[0mw\u001b[0m\u001b[1;33m,\u001b[0m\u001b[0mX\u001b[0m\u001b[1;33m,\u001b[0m\u001b[0my\u001b[0m\u001b[1;33m)\u001b[0m\u001b[1;33m\u001b[0m\u001b[0m\n\u001b[1;32m----> 7\u001b[1;33m         \u001b[0mcost\u001b[0m\u001b[1;33m=\u001b[0m\u001b[1;33m(\u001b[0m\u001b[0my\u001b[0m\u001b[1;33m[\u001b[0m\u001b[0mi\u001b[0m\u001b[1;33m]\u001b[0m\u001b[1;33m[\u001b[0m\u001b[1;36m0\u001b[0m\u001b[1;33m]\u001b[0m\u001b[1;33m*\u001b[0m\u001b[0mmath\u001b[0m\u001b[1;33m.\u001b[0m\u001b[0mlog\u001b[0m\u001b[1;33m(\u001b[0m\u001b[0mintercept\u001b[0m\u001b[1;33m[\u001b[0m\u001b[0mi\u001b[0m\u001b[1;33m]\u001b[0m\u001b[1;33m)\u001b[0m\u001b[1;33m)\u001b[0m\u001b[1;33m+\u001b[0m\u001b[1;33m(\u001b[0m\u001b[1;33m(\u001b[0m\u001b[1;36m1\u001b[0m\u001b[1;33m-\u001b[0m\u001b[0my\u001b[0m\u001b[1;33m[\u001b[0m\u001b[0mi\u001b[0m\u001b[1;33m]\u001b[0m\u001b[1;33m[\u001b[0m\u001b[1;36m0\u001b[0m\u001b[1;33m]\u001b[0m\u001b[1;33m)\u001b[0m\u001b[1;33m*\u001b[0m\u001b[0mmath\u001b[0m\u001b[1;33m.\u001b[0m\u001b[0mlog\u001b[0m\u001b[1;33m(\u001b[0m\u001b[1;36m1\u001b[0m\u001b[1;33m-\u001b[0m\u001b[0mintercept\u001b[0m\u001b[1;33m[\u001b[0m\u001b[0mi\u001b[0m\u001b[1;33m]\u001b[0m\u001b[1;33m)\u001b[0m\u001b[1;33m)\u001b[0m\u001b[1;33m\u001b[0m\u001b[0m\n\u001b[0m\u001b[0;32m      8\u001b[0m         \u001b[0mcost\u001b[0m\u001b[1;33m=\u001b[0m\u001b[0mcost\u001b[0m\u001b[1;33m-\u001b[0m\u001b[0my\u001b[0m\u001b[1;33m[\u001b[0m\u001b[0mi\u001b[0m\u001b[1;33m]\u001b[0m\u001b[1;33m[\u001b[0m\u001b[1;36m0\u001b[0m\u001b[1;33m]\u001b[0m\u001b[1;33m\u001b[0m\u001b[0m\n\u001b[0;32m      9\u001b[0m         \u001b[0mcost\u001b[0m\u001b[1;33m=\u001b[0m\u001b[0mcost\u001b[0m\u001b[1;33m*\u001b[0m\u001b[0mX\u001b[0m\u001b[1;33m[\u001b[0m\u001b[0mi\u001b[0m\u001b[1;33m]\u001b[0m\u001b[1;33m\u001b[0m\u001b[0m\n",
      "\u001b[1;31mValueError\u001b[0m: math domain error"
     ]
    },
    {
     "name": "stdout",
     "output_type": "stream",
     "text": [
      "[-1.34236823 -5.83511715] [[ 0.84072226]\n",
      " [ 3.59070827]] 0.0001\n"
     ]
    }
   ],
   "source": [
    "if __name__=='__main__':\n",
    "    \n",
    "    data_source=genfromtxt(\"breast_cancer_2.csv\",delimiter=',',skip_header=1,usecols=(6))\n",
    "    X=array(data_source).reshape(len(data_source),1)\n",
    "    x1=ones(len(data_source)).reshape(len(data_source),1)\n",
    "    y=array(genfromtxt(\"breast_cancer_2.csv\",delimiter=',',skip_header=1,usecols=(10))).reshape(len(data_source),1)#labels/output\n",
    "    X=append(x1, X, axis=1)#data_set or training set\n",
    "    w=zeros(2).reshape(2,1)#theta matrix or coefficient matrix\n",
    "    w[0][0]=0.1\n",
    "    w[1][0]=0.8\n",
    "    \n",
    "    %time intercept=intercept_point(w,X,y)\n",
    "    print(len(intercept))\n",
    "    alpha=0.0001\n",
    "    iterations=100\n",
    "    %time total_cost=cost_function(w,X,y)\n",
    "    #print(totak\n",
    "    print(w,total_cost)\n",
    "    %time total_cost,w=gradient_descent(X,y,total_cost,w,alpha,iterations)\n",
    "    print(total_cost,w,alpha)\n",
    "    \n",
    "    "
   ]
  },
  {
   "cell_type": "code",
   "execution_count": null,
   "metadata": {
    "collapsed": true
   },
   "outputs": [],
   "source": []
  }
 ],
 "metadata": {
  "kernelspec": {
   "display_name": "Python 3",
   "language": "python",
   "name": "python3"
  },
  "language_info": {
   "codemirror_mode": {
    "name": "ipython",
    "version": 3
   },
   "file_extension": ".py",
   "mimetype": "text/x-python",
   "name": "python",
   "nbconvert_exporter": "python",
   "pygments_lexer": "ipython3",
   "version": "3.7.0"
  }
 },
 "nbformat": 4,
 "nbformat_minor": 2
}
