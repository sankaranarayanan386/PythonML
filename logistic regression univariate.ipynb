{
 "cells": [
  {
   "cell_type": "code",
   "execution_count": null,
   "metadata": {
    "collapsed": true
   },
   "outputs": [],
   "source": [
    "from numpy import *\n",
    "import pandas as pd\n",
    "from matplotlib import pyplot as plt\n",
    "\n",
    "import math\n",
    "%matplotlib inline"
   ]
  },
  {
   "cell_type": "code",
   "execution_count": 193,
   "metadata": {},
   "outputs": [
    {
     "name": "stdout",
     "output_type": "stream",
     "text": [
      "74.12452112424721\n",
      "684\n",
      "running...............\n",
      "nan nan nan\n",
      "nan nan nan\n",
      "nan nan nan\n",
      "nan nan nan\n",
      "nan nan nan\n",
      "nan nan nan\n",
      "nan nan nan\n",
      "nan nan nan\n",
      "nan nan nan\n",
      "nan nan nan\n",
      "nan nan nan\n",
      "nan nan nan\n",
      "nan nan nan\n",
      "nan nan nan\n",
      "nan nan nan\n",
      "nan nan nan\n",
      "nan nan nan\n",
      "nan nan nan\n",
      "nan nan nan\n",
      "nan nan nan\n",
      "nan nan nan\n",
      "nan nan nan\n",
      "nan nan nan\n",
      "nan nan nan\n",
      "nan nan nan\n",
      "nan nan nan\n",
      "nan nan nan\n",
      "nan nan nan\n",
      "nan nan nan\n",
      "nan nan nan\n",
      "nan nan nan\n",
      "nan nan nan\n",
      "nan nan nan\n",
      "nan nan nan\n",
      "nan nan nan\n",
      "nan nan nan\n",
      "nan nan nan\n",
      "nan nan nan\n",
      "nan nan nan\n",
      "nan nan nan\n",
      "nan nan nan\n",
      "nan nan nan\n",
      "nan nan nan\n",
      "nan nan nan\n",
      "nan nan nan\n",
      "nan nan nan\n",
      "nan nan nan\n",
      "nan nan nan\n",
      "nan nan nan\n",
      "nan nan nan\n",
      "nan nan nan\n",
      "nan nan nan\n",
      "nan nan nan\n",
      "nan nan nan\n",
      "nan nan nan\n",
      "nan nan nan\n",
      "nan nan nan\n",
      "nan nan nan\n",
      "nan nan nan\n",
      "nan nan nan\n",
      "nan nan nan\n",
      "nan nan nan\n",
      "nan nan nan\n",
      "nan nan nan\n",
      "nan nan nan\n",
      "nan nan nan\n",
      "nan nan nan\n",
      "nan nan nan\n",
      "nan nan nan\n",
      "nan nan nan\n",
      "nan nan nan\n",
      "nan nan nan\n",
      "nan nan nan\n",
      "nan nan nan\n",
      "nan nan nan\n",
      "nan nan nan\n",
      "nan nan nan\n",
      "nan nan nan\n",
      "nan nan nan\n",
      "nan nan nan\n",
      "nan nan nan\n",
      "nan nan nan\n",
      "nan nan nan\n",
      "nan nan nan\n",
      "nan nan nan\n",
      "nan nan nan\n",
      "nan nan nan\n",
      "nan nan nan\n",
      "nan nan nan\n",
      "nan nan nan\n",
      "nan nan nan\n",
      "nan nan nan\n",
      "nan nan nan\n",
      "nan nan nan\n",
      "nan nan nan\n",
      "nan nan nan\n",
      "nan nan nan\n",
      "nan nan nan\n",
      "nan nan nan\n",
      "nan nan nan\n",
      "nan nan nan\n",
      "done\n"
     ]
    }
   ],
   "source": [
    "if __name__=='__main__':\n",
    "    data_set = genfromtxt('breast_cancer_1.csv', delimiter=',')\n",
    "    #data_set.head()\n",
    "    m=len(data_set)\n",
    "    theta_0=0.75\n",
    "    theta_1=0.5\n",
    "    alpha=0.0001\n",
    "    iterations=100\n",
    "    #data_set=feature_selection(data_set,m)\n",
    "    total_error=hypothesis_cost(data_set,m,theta_0,theta_1)\n",
    "    print(total_error)\n",
    "    print(m)\n",
    "    print(\"running...............\")\n",
    "    theta_0,theta_1,new_error=gradient_descent(theta_0,theta_1,alpha,data_set,m,iterations,total_error)\n",
    "    print(theta_0,theta_1,new_error)\n",
    "    \n",
    "    print(\"done\")"
   ]
  },
  {
   "cell_type": "code",
   "execution_count": 188,
   "metadata": {
    "collapsed": true
   },
   "outputs": [],
   "source": [
    "def hypothesis_cost(data_set,m,theta_0,theta_1):\n",
    "    total_error=0\n",
    "    for i in range(1,m):\n",
    "        x=(data_set[i][6])\n",
    "        y=(data_set[i][10])\n",
    "        z=((theta_0+(theta_1*x)))\n",
    "        hyp=(1/(1+(math.e**(-1*z))))\n",
    "        error=((y*log(hyp))+((1-y)*log(1-hyp)))**2\n",
    "        total_error +=((error))\n",
    "        #'print(x,y,z,hyp,error)\n",
    "    return ((1/m)*total_error)\n",
    "        \n",
    "    "
   ]
  },
  {
   "cell_type": "code",
   "execution_count": 192,
   "metadata": {
    "collapsed": true
   },
   "outputs": [],
   "source": [
    "def gradient_descent(theta_0,theta_1,alpha,data_set,m,iterations,total_error):\n",
    "    \n",
    "    for i in range(0,iterations):\n",
    "        theta_0,theta_1,new_error=gradient_descent_step(theta_0,theta_1,alpha,data_set,m,total_error)\n",
    "        \n",
    "        \n",
    "    total_error=new_error   \n",
    "    \n",
    "    return (theta_0,theta_1,total_error)        "
   ]
  },
  {
   "cell_type": "code",
   "execution_count": 186,
   "metadata": {
    "collapsed": true
   },
   "outputs": [],
   "source": [
    "def gradient_descent_step(theta_0,theta_1,alpha,data_set,m,total_error):\n",
    "    theta_0_temp=0\n",
    "    theta_1_temp=0\n",
    "    for i in range(m):\n",
    "        x=(data_set[i][6])\n",
    "        y=(data_set[i][10])\n",
    "        z=((theta_0+(theta_1*x)))\n",
    "        hyp=(1/(1+(math.e**(-1*z))))\n",
    "        theta_0_temp +=-(1/m)*(y - ((hyp)))\n",
    "        theta_1_temp +=-(1/m)*x*(y-((hyp)))\n",
    "    theta_0_new = theta_0 - (alpha * theta_0_temp)\n",
    "    theta_1_new = theta_1 - (alpha * theta_1_temp)\n",
    "    new_error=hypothesis_cost(data_set,m,theta_0_new,theta_1_new)\n",
    "    return (theta_0_new,theta_1_new,new_error)    "
   ]
  },
  {
   "cell_type": "code",
   "execution_count": 155,
   "metadata": {
    "collapsed": true
   },
   "outputs": [],
   "source": []
  }
 ],
 "metadata": {
  "kernelspec": {
   "display_name": "Python 3",
   "language": "python",
   "name": "python3"
  },
  "language_info": {
   "codemirror_mode": {
    "name": "ipython",
    "version": 3
   },
   "file_extension": ".py",
   "mimetype": "text/x-python",
   "name": "python",
   "nbconvert_exporter": "python",
   "pygments_lexer": "ipython3",
   "version": "3.6.3"
  }
 },
 "nbformat": 4,
 "nbformat_minor": 2
}
