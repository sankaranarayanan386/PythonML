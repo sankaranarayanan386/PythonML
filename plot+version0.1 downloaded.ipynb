{
 "cells": [
  {
   "cell_type": "code",
   "execution_count": 1,
   "metadata": {
    "collapsed": true
   },
   "outputs": [],
   "source": [
    "from numpy import *\n",
    "import pylab\n",
    "import matplotlib"
   ]
  },
  {
   "cell_type": "code",
   "execution_count": 2,
   "metadata": {
    "collapsed": true
   },
   "outputs": [],
   "source": [
    "def h_theta_avg_error(theta_0,theta_1,data_set,m) :\n",
    "    total_error=0\n",
    "    for i in range(len(data_set)):\n",
    "        x=float(data_set[i][0])\n",
    "        y=float(data_set[i][1])\n",
    "        h_theta_x=theta_0+(theta_1*x)\n",
    "        error=(h_theta_x-y)**2\n",
    "        total_error+=error\n",
    "        #print(\"x={0}  predicted={1}   actual={2}   error={3}\",x,h_theta_x,y,error)\n",
    "    #print(\"average_error=\",(total_error/(2*len(data_set))))\n",
    "    return((total_error/(2*m)))"
   ]
  },
  {
   "cell_type": "code",
   "execution_count": 3,
   "metadata": {
    "collapsed": true
   },
   "outputs": [],
   "source": [
    "def gradient_descent(total_error,alpha,data_set,theta_0,theta_1,iterations):\n",
    "    m=len(data_set)\n",
    "    print(\"running gradient Descent....\")\n",
    "    #count=0\n",
    "    #countif=0\n",
    "    i=0\n",
    "    for i in range(0,iterations):\n",
    "        theta_0,theta_1,new_error=descent_step(theta_0,theta_1,data_set,alpha,total_error)\n",
    "        plot(theta_0,theta_1,data_set)\n",
    "       # count+=1\n",
    "       # print(theta_0,theta_1,new_error)\n",
    "        #print(count,countif)\n",
    "        if abs(new_error-total_error)<=10 :\n",
    "            total_error=new_error\n",
    "           # countif+=1\n",
    "            break\n",
    "    total_error=new_error\n",
    "    return (theta_0,theta_1,total_error,alpha)     \n",
    "        "
   ]
  },
  {
   "cell_type": "code",
   "execution_count": 4,
   "metadata": {
    "collapsed": true
   },
   "outputs": [],
   "source": [
    "def descent_step(theta_0,theta_1,data_set,alpha,total_error):\n",
    "    theta_0_temp=0\n",
    "    theta_1_temp=0\n",
    "    m=len(data_set)\n",
    "    for i in range(m):\n",
    "        theta_0_temp+=-(2/m)*(data_set[i][1] - ((theta_1 * data_set[i][0]) + theta_0))\n",
    "        theta_1_temp+=-(2/m)*data_set[i][0]*(data_set[i][1]-((theta_1*data_set[i][0]+theta_0)))\n",
    "    theta_0_new = theta_0 - (alpha * theta_0_temp)\n",
    "    theta_1_new = theta_1 - (alpha * theta_1_temp)\n",
    "    new_error=h_theta_avg_error(theta_0_new,theta_1_new,data_set,m)\n",
    "    return(theta_0_new,theta_1_new,new_error)"
   ]
  },
  {
   "cell_type": "code",
   "execution_count": null,
   "metadata": {},
   "outputs": [
    {
     "name": "stdout",
     "output_type": "stream",
     "text": [
      "2782.5539172416056\n",
      "running gradient Descent....\n"
     ]
    }
   ],
   "source": [
    "if __name__==\"__main__\":\n",
    "    data_set=genfromtxt(\"data.csv\",delimiter=',')\n",
    "    theta_0=0\n",
    "    theta_1=0\n",
    "    m=len(data_set)\n",
    "    total_error=h_theta_avg_error(theta_0,theta_1,data_set,m)\n",
    "    print(total_error)\n",
    "    alpha=0.0001\n",
    "    #print(alpha)\n",
    "    iterations=100000\n",
    "    print(gradient_descent(total_error,alpha,data_set,theta_0,theta_1,iterations))\n",
    "    plt.show()\n",
    "    print (\"Done!\")\n",
    "    #anim.save(r\"C:\\Users\\668376\\Desktop\\LR\\linear_regression.mp4\",writer=animation.FFMpegWriter())\n",
    "    "
   ]
  },
  {
   "cell_type": "code",
   "execution_count": 5,
   "metadata": {
    "collapsed": true
   },
   "outputs": [],
   "source": [
    "import matplotlib.pyplot as plt\n",
    "def plot(theta_0,theta_1,data_set):\n",
    "    %matplotlib inline\n",
    "    x=[0]*len(data_set)\n",
    "    y=[0]*len(data_set)\n",
    "    y_predict=[]\n",
    "    for i in range(len(data_set)):\n",
    "        x[i]=data_set[i][0]\n",
    "        y[i]=data_set[i][1]\n",
    "    for i in range(len(x)):\n",
    "        y_predict.append((theta_0 + theta_1*x[i]))\n",
    "    plt.plot(x,y,'o')\n",
    "    plt.plot(x,y_predict,'r-')\n",
    "    #plt.show()\n",
    "    "
   ]
  }
 ],
 "metadata": {
  "kernelspec": {
   "display_name": "Python 3",
   "language": "python",
   "name": "python3"
  },
  "language_info": {
   "codemirror_mode": {
    "name": "ipython",
    "version": 3
   },
   "file_extension": ".py",
   "mimetype": "text/x-python",
   "name": "python",
   "nbconvert_exporter": "python",
   "pygments_lexer": "ipython3",
   "version": "3.6.3"
  }
 },
 "nbformat": 4,
 "nbformat_minor": 2
}
