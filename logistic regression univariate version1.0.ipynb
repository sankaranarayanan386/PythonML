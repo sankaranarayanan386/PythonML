{
 "cells": [
  {
   "cell_type": "code",
   "execution_count": 7,
   "metadata": {
    "collapsed": true
   },
   "outputs": [],
   "source": [
    "from numpy import *\n",
    "#from matplotlib import pyplot as plt\n",
    "#import pandas as pd\n",
    "import math"
   ]
  },
  {
   "cell_type": "code",
   "execution_count": 8,
   "metadata": {
    "collapsed": true
   },
   "outputs": [],
   "source": [
    "def h_theta_avg_error(theta_0,theta_1,data_set,m):\n",
    "    total_error=0\n",
    "    count=0\n",
    "    for i in range(1,m):\n",
    "        z=theta_0+(theta_1*(data_set[i][6]))\n",
    "        hyp=(1/(1+math.e**(-1*z)))\n",
    "        error=(((-1*(data_set[i][10]))*(math.log(hyp)))-((1-(data_set[i][10]))*(math.log(1-hyp))))**2\n",
    "        total_error+=error\n",
    "    return((total_error/(m)))"
   ]
  },
  {
   "cell_type": "code",
   "execution_count": 9,
   "metadata": {
    "collapsed": true
   },
   "outputs": [],
   "source": [
    "def gradient_descent(total_error,alpha,data_set,theta_0,theta_1,iterations):\n",
    "    m=len(data_set)\n",
    "    print(\"running gradient Descent....\")\n",
    "    #count=0\n",
    "    #countif=0\n",
    "    i=0\n",
    "    for i in range(0,iterations):\n",
    "        theta_0,theta_1,new_error=descent_step(theta_0,theta_1,data_set,alpha,total_error)\n",
    "        \n",
    "    total_error=new_error\n",
    "    #plot(theta_0,theta_1,data_set,m)\n",
    "    return (theta_0,theta_1,total_error,alpha)     "
   ]
  },
  {
   "cell_type": "code",
   "execution_count": 10,
   "metadata": {
    "collapsed": true
   },
   "outputs": [],
   "source": [
    "def descent_step(theta_0,theta_1,data_set,alpha,total_error):\n",
    "    theta_0_temp=0\n",
    "    theta_1_temp=0\n",
    "    m=len(data_set)\n",
    "    for i in range(1,m):\n",
    "        theta_0_temp +=-(1)*(data_set[i][10] - ((theta_1 * data_set[i][6]) + theta_0))\n",
    "        theta_1_temp+=-(1)*data_set[i][6]*(data_set[i][10]-((theta_1*data_set[i][6]+theta_0)))\n",
    "    theta_0_new = theta_0 - (alpha * theta_0_temp)\n",
    "    theta_1_new = theta_1 - (alpha * theta_1_temp)\n",
    "    new_error=h_theta_avg_error(theta_0_new,theta_1_new,data_set,m)\n",
    "    return(theta_0_new,theta_1_new,new_error)"
   ]
  },
  {
   "cell_type": "code",
   "execution_count": 11,
   "metadata": {
    "collapsed": true
   },
   "outputs": [],
   "source": [
    "import matplotlib.pyplot as plt\n",
    "def plot(theta_0,theta_1,data_set,m):\n",
    "    x=[0]*len(data_set)\n",
    "    y=[0]*len(data_set)\n",
    "    y_predict=[]\n",
    "    colors = (1)\n",
    "    for i in range(m):\n",
    "        x[i]=data_set[i][6]\n",
    "        y[i]=data_set[i][10]\n",
    "        y_predict.append((theta_0 + theta_1*x[i]))\n",
    "    \n",
    "    \n",
    "    #plt.plot(x,y,'o')\n",
    "    plt.plot(x,y,'o')\n",
    "    plt.plot(y_predict,y,'r-')\n"
   ]
  },
  {
   "cell_type": "code",
   "execution_count": 14,
   "metadata": {},
   "outputs": [
    {
     "name": "stdout",
     "output_type": "stream",
     "text": [
      "0.479750597231\n",
      "running gradient Descent....\n",
      "-0.0320526190696 0.107762056516 0.429074296271 0.0001\n"
     ]
    },
    {
     "data": {
      "image/png": "[encoded data removed]",
      "text/plain": [
       "<matplotlib.figure.Figure at 0x80ca210>"
      ]
     },
     "metadata": {},
     "output_type": "display_data"
    },
    {
     "name": "stdout",
     "output_type": "stream",
     "text": [
      "Done!\n"
     ]
    }
   ],
   "source": [
    "if __name__==\"__main__\":\n",
    "    data_set=genfromtxt(\"breast_cancer_2.csv\",delimiter=',')\n",
    "    theta_0=0\n",
    "    theta_1=0\n",
    "    m=len(data_set)\n",
    "    total_error=h_theta_avg_error(theta_0,theta_1,data_set,m)\n",
    "    print(total_error)\n",
    "    alpha=0.0001\n",
    "    #print(alpha)n\n",
    "    iterations=1000\n",
    "    theta_0,theta_1,total_error,alpha=gradient_descent(total_error,alpha,data_set,theta_0,theta_1,iterations)\n",
    "    print(theta_0,theta_1,total_error,alpha)\n",
    "    plot(theta_0,theta_1,data_set,m)\n",
    "    plt.show()\n",
    "    print (\"Done!\")\n",
    "    #anim.save(r\"C:\\Users\\668376\\Desktop\\LR\\linear_regression.mp4\",writer=animation.FFMpegWriter())\n",
    "    "
   ]
  }
 ],
 "metadata": {
  "kernelspec": {
   "display_name": "Python 3",
   "language": "python",
   "name": "python3"
  },
  "language_info": {
   "codemirror_mode": {
    "name": "ipython",
    "version": 3
   },
   "file_extension": ".py",
   "mimetype": "text/x-python",
   "name": "python",
   "nbconvert_exporter": "python",
   "pygments_lexer": "ipython3",
   "version": "3.7.0"
  }
 },
 "nbformat": 4,
 "nbformat_minor": 2
}
