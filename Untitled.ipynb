{
 "cells": [
  {
   "cell_type": "code",
   "execution_count": 14,
   "metadata": {},
   "outputs": [
    {
     "data": {
      "text/plain": [
       "\" 2012-01-01 09:00   San Jose    Men's Clothing  214.05  Amex\""
      ]
     },
     "execution_count": 14,
     "metadata": {},
     "output_type": "execute_result"
    }
   ],
   "source": [
    "string_given= \" 2012-01-01 09:00   San Jose    Men's Clothing  214.05  Amex\"\n",
    "string_given"
   ]
  },
  {
   "cell_type": "code",
   "execution_count": 27,
   "metadata": {},
   "outputs": [
    {
     "data": {
      "text/plain": [
       "['2012-01-01', '09:00', 'San Jose', \"Men's Clothing\", '214.05', 'Amex']"
      ]
     },
     "execution_count": 27,
     "metadata": {},
     "output_type": "execute_result"
    }
   ],
   "source": [
    "output_string=list(string_given.strip().split())\n",
    "output_string[2]=str.join(' ',(output_string[2],output_string[3]))\n",
    "del output_string[3]\n",
    "output_string[3]=str.join(' ',(output_string[3],output_string[4]))\n",
    "del output_string[4]\n",
    "output_string"
   ]
  },
  {
   "cell_type": "code",
   "execution_count": 26,
   "metadata": {},
   "outputs": [
    {
     "name": "stdout",
     "output_type": "stream",
     "text": [
      "[('2012-01-01', '09:00', 'San Jose', \"Men's Clothing\", '214.05', 'Amex')]\n"
     ]
    }
   ],
   "source": [
    "string_given= \" 2012-01-01 09:00   San Jose    Men's Clothing  214.05  Amex\"\n",
    "output_string=list(string_given.split())\n",
    "output_string[2]=str.join(' ',(output_string[2],output_string[3]))\n",
    "del output_string[3]\n",
    "output_string[3]=str.join(' ',(output_string[3],output_string[4]))\n",
    "del output_string[4]\n",
    "tupled_string=tuple(output_string)\n",
    "print([tupled_string])"
   ]
  },
  {
   "cell_type": "code",
   "execution_count": 25,
   "metadata": {},
   "outputs": [
    {
     "ename": "AttributeError",
     "evalue": "'list' object has no attribute 'replace'",
     "output_type": "error",
     "traceback": [
      "\u001b[1;31m---------------------------------------------------------------------------\u001b[0m",
      "\u001b[1;31mAttributeError\u001b[0m                            Traceback (most recent call last)",
      "\u001b[1;32m<ipython-input-25-f97cf3dbb83b>\u001b[0m in \u001b[0;36m<module>\u001b[1;34m()\u001b[0m\n\u001b[1;32m----> 1\u001b[1;33m \u001b[0msplitted\u001b[0m\u001b[1;33m=\u001b[0m\u001b[0moutput_string\u001b[0m\u001b[1;33m.\u001b[0m\u001b[0mreplace\u001b[0m\u001b[1;33m(\u001b[0m\u001b[1;34m' '\u001b[0m\u001b[1;33m,\u001b[0m\u001b[1;34m'\\t'\u001b[0m\u001b[1;33m)\u001b[0m\u001b[1;33m\u001b[0m\u001b[0m\n\u001b[0m",
      "\u001b[1;31mAttributeError\u001b[0m: 'list' object has no attribute 'replace'"
     ]
    }
   ],
   "source": [
    "splitted=output_string.replace(' ','\\t')"
   ]
  }
 ],
 "metadata": {
  "kernelspec": {
   "display_name": "Python 3",
   "language": "python",
   "name": "python3"
  },
  "language_info": {
   "codemirror_mode": {
    "name": "ipython",
    "version": 3
   },
   "file_extension": ".py",
   "mimetype": "text/x-python",
   "name": "python",
   "nbconvert_exporter": "python",
   "pygments_lexer": "ipython3",
   "version": "3.6.3"
  }
 },
 "nbformat": 4,
 "nbformat_minor": 2
}
